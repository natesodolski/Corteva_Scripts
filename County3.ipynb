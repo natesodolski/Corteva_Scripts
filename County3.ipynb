{
 "cells": [
  {
   "cell_type": "code",
   "execution_count": 12,
   "id": "8d952e3e",
   "metadata": {},
   "outputs": [
    {
     "name": "stdout",
     "output_type": "stream",
     "text": [
      "                                County Month  Year  Average Temp  Min Temp  \\\n",
      "50760  National (contiguous 48 States)  Jan.  1940          23.8      14.1   \n",
      "50761                          Indiana  Jan.  1940          14.1       5.5   \n",
      "50762                     Adams County  Jan.  1940          12.8       5.3   \n",
      "50763                     Allen County  Jan.  1940          13.2       5.6   \n",
      "50764               Bartholomew County  Jan.  1940          15.4       7.4   \n",
      "\n",
      "       Max Temp  Precipitation Heating Degree Days  Cooling Degree Days  \n",
      "50760      33.6           1.93               1,149                  1.0  \n",
      "50761      22.7           1.63               1,587                  NaN  \n",
      "50762      20.3           1.56                 NaN                  NaN  \n",
      "50763      20.9           1.70                 NaN                  NaN  \n",
      "50764      23.3           1.54                 NaN                  NaN  \n"
     ]
    }
   ],
   "source": [
    "import pandas as pd\n",
    "\n",
    "# Load your CSV file into a DataFrame\n",
    "df = pd.read_csv(r'C:\\Users\\nasod\\Downloads\\Weather_Data_By_Month1.csv')\n",
    "\n",
    "# Split the 'Source' column into 'Month' and 'Year' columns\n",
    "df[['Month', 'Year']] = df['Source'].str.split(', ', expand=True)\n",
    "\n",
    "# Remove any leading/trailing spaces if needed\n",
    "df['Month'] = df['Month'].str.strip()\n",
    "df['Year'] = df['Year'].str.strip().astype(int)\\\n",
    "\n",
    "df = df[['County','Month','Year','Average Temp','Min Temp','Max Temp','Precipitation','Heating Degree Days','Cooling Degree Days']]\n",
    "df = df[df['Year']>=1940]\n",
    "\n",
    "# Verify the results\n",
    "print(df.head())"
   ]
  },
  {
   "cell_type": "code",
   "execution_count": 13,
   "id": "78409f41",
   "metadata": {},
   "outputs": [],
   "source": [
    "from IPython.display import FileLink\n",
    "df.to_csv('df.csv', index=False)"
   ]
  },
  {
   "cell_type": "code",
   "execution_count": null,
   "id": "46f83cb9",
   "metadata": {},
   "outputs": [],
   "source": []
  }
 ],
 "metadata": {
  "kernelspec": {
   "display_name": "Python 3 (ipykernel)",
   "language": "python",
   "name": "python3"
  },
  "language_info": {
   "codemirror_mode": {
    "name": "ipython",
    "version": 3
   },
   "file_extension": ".py",
   "mimetype": "text/x-python",
   "name": "python",
   "nbconvert_exporter": "python",
   "pygments_lexer": "ipython3",
   "version": "3.11.1"
  }
 },
 "nbformat": 4,
 "nbformat_minor": 5
}
